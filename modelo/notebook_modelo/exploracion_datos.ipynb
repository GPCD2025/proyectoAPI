{
 "cells": [
  {
   "cell_type": "code",
   "execution_count": 5,
   "id": "95f76e0b-b4b4-4a30-b114-7f00ab5ff4fd",
   "metadata": {},
   "outputs": [],
   "source": [
    "import pandas as pd\n",
    "from sklearn.model_selection import train_test_split\n",
    "from sklearn.preprocessing import StandardScaler, OneHotEncoder\n",
    "from sklearn.compose import ColumnTransformer\n",
    "from sklearn.pipeline import Pipeline"
   ]
  },
  {
   "cell_type": "code",
   "execution_count": 3,
   "id": "23370658-9565-444c-98a9-7d8ccc2b32fb",
   "metadata": {},
   "outputs": [],
   "source": [
    "url = \"https://raw.githubusercontent.com/Izainea/proyecto_prueba/refs/heads/main/Datos/Copa_Libertadores_2023_Complete_Goal_Scorers.csv\" "
   ]
  },
  {
   "cell_type": "code",
   "execution_count": 6,
   "id": "588e7d8b-889f-4041-8869-9cf241f4753e",
   "metadata": {},
   "outputs": [
    {
     "data": {
      "text/html": [
       "<div>\n",
       "<style scoped>\n",
       "    .dataframe tbody tr th:only-of-type {\n",
       "        vertical-align: middle;\n",
       "    }\n",
       "\n",
       "    .dataframe tbody tr th {\n",
       "        vertical-align: top;\n",
       "    }\n",
       "\n",
       "    .dataframe thead th {\n",
       "        text-align: right;\n",
       "    }\n",
       "</style>\n",
       "<table border=\"1\" class=\"dataframe\">\n",
       "  <thead>\n",
       "    <tr style=\"text-align: right;\">\n",
       "      <th></th>\n",
       "      <th>Player</th>\n",
       "      <th>Team</th>\n",
       "      <th>Country</th>\n",
       "      <th>Team Nationality</th>\n",
       "      <th>Goals</th>\n",
       "      <th>Penalty Goals</th>\n",
       "      <th>Team Total Goals</th>\n",
       "    </tr>\n",
       "  </thead>\n",
       "  <tbody>\n",
       "    <tr>\n",
       "      <th>0</th>\n",
       "      <td>Germán Cano</td>\n",
       "      <td>Fluminense RJ</td>\n",
       "      <td>Argentina</td>\n",
       "      <td>Brasil</td>\n",
       "      <td>13</td>\n",
       "      <td>0</td>\n",
       "      <td>24</td>\n",
       "    </tr>\n",
       "    <tr>\n",
       "      <th>1</th>\n",
       "      <td>Paulinho</td>\n",
       "      <td>Atlético Mineiro</td>\n",
       "      <td>Brasil</td>\n",
       "      <td>Brasil</td>\n",
       "      <td>7</td>\n",
       "      <td>0</td>\n",
       "      <td>14</td>\n",
       "    </tr>\n",
       "    <tr>\n",
       "      <th>2</th>\n",
       "      <td>Dorlan Pabón</td>\n",
       "      <td>Atlético Nacional</td>\n",
       "      <td>Colombia</td>\n",
       "      <td>Colombia</td>\n",
       "      <td>6</td>\n",
       "      <td>2</td>\n",
       "      <td>12</td>\n",
       "    </tr>\n",
       "  </tbody>\n",
       "</table>\n",
       "</div>"
      ],
      "text/plain": [
       "         Player               Team    Country Team Nationality  Goals  \\\n",
       "0   Germán Cano      Fluminense RJ  Argentina           Brasil     13   \n",
       "1      Paulinho   Atlético Mineiro     Brasil           Brasil      7   \n",
       "2  Dorlan Pabón  Atlético Nacional   Colombia         Colombia      6   \n",
       "\n",
       "   Penalty Goals  Team Total Goals  \n",
       "0              0                24  \n",
       "1              0                14  \n",
       "2              2                12  "
      ]
     },
     "execution_count": 6,
     "metadata": {},
     "output_type": "execute_result"
    }
   ],
   "source": [
    "datos = pd.read_csv(url)\n",
    "datos.head(3)"
   ]
  },
  {
   "cell_type": "code",
   "execution_count": 9,
   "id": "d44a7093-6c23-4772-910f-46ff188b1547",
   "metadata": {},
   "outputs": [
    {
     "data": {
      "text/plain": [
       "Player              0\n",
       "Team                0\n",
       "Country             0\n",
       "Team Nationality    0\n",
       "Goals               0\n",
       "Penalty Goals       0\n",
       "Team Total Goals    0\n",
       "dtype: int64"
      ]
     },
     "execution_count": 9,
     "metadata": {},
     "output_type": "execute_result"
    }
   ],
   "source": [
    "datos.isnull().sum()"
   ]
  },
  {
   "cell_type": "code",
   "execution_count": 11,
   "id": "b46d1ee3-a92f-4e27-b53b-3fc4d8207a1c",
   "metadata": {},
   "outputs": [],
   "source": [
    "X = datos.drop(columns=['Goals'])\n",
    "y = datos['Goals']"
   ]
  },
  {
   "cell_type": "code",
   "execution_count": 12,
   "id": "f1eed42d-add8-438f-b749-b2d00488847c",
   "metadata": {},
   "outputs": [],
   "source": [
    "# Dividir los datos en conjuntos de entrenamiento y prueba\n",
    "X_train, X_test, y_train, y_test = train_test_split(X, y, test_size=0.2, random_state=42)"
   ]
  },
  {
   "cell_type": "code",
   "execution_count": null,
   "id": "8203e2b4-406d-4678-8983-e17310cbc3fe",
   "metadata": {},
   "outputs": [],
   "source": []
  },
  {
   "cell_type": "code",
   "execution_count": 13,
   "id": "31e59f82-f049-48a6-8cc1-f40c0ae295c9",
   "metadata": {},
   "outputs": [],
   "source": [
    "# Definir las columnas categóricas y numéricas\n",
    "categorical_cols = ['Player', 'Team', 'Country', 'Team Nationality']\n",
    "numeric_cols = ['Penalty Goals', 'Team Total Goals']"
   ]
  },
  {
   "cell_type": "code",
   "execution_count": null,
   "id": "5953ffb9-3baf-4028-a2b5-78c313a1c6c0",
   "metadata": {},
   "outputs": [],
   "source": []
  },
  {
   "cell_type": "code",
   "execution_count": 15,
   "id": "3330d34e-2819-41ba-b11e-a01165e9b7d8",
   "metadata": {},
   "outputs": [],
   "source": [
    "# Crear transformadores para las columnas categóricas y numéricas\n",
    "numeric_transformer = Pipeline(steps=[\n",
    "    ('scaler', StandardScaler())\n",
    "])"
   ]
  },
  {
   "cell_type": "code",
   "execution_count": null,
   "id": "a2288ced-ae86-454f-84cb-94c2a5ebad41",
   "metadata": {},
   "outputs": [],
   "source": []
  },
  {
   "cell_type": "code",
   "execution_count": 16,
   "id": "841efe88-7351-4489-adbc-f51239399be2",
   "metadata": {},
   "outputs": [],
   "source": [
    "categorical_transformer = Pipeline(steps=[\n",
    "    ('onehot', OneHotEncoder(handle_unknown='ignore'))\n",
    "])"
   ]
  },
  {
   "cell_type": "code",
   "execution_count": null,
   "id": "ed9be873-c5c4-4d3f-9471-d389c0270d7a",
   "metadata": {},
   "outputs": [],
   "source": []
  },
  {
   "cell_type": "code",
   "execution_count": 17,
   "id": "667d8072-fcd8-48c2-a79c-5f9832943666",
   "metadata": {},
   "outputs": [],
   "source": [
    "# Combinar los transformadores en un preprocesador\n",
    "preprocessor = ColumnTransformer(\n",
    "    transformers=[\n",
    "        ('num', numeric_transformer, numeric_cols),\n",
    "        ('cat', categorical_transformer, categorical_cols)\n",
    "    ])"
   ]
  },
  {
   "cell_type": "code",
   "execution_count": null,
   "id": "1b62f972-7482-4414-95f8-b5708d47019e",
   "metadata": {},
   "outputs": [],
   "source": []
  },
  {
   "cell_type": "code",
   "execution_count": 18,
   "id": "7ab290ab-d8c9-469b-bfdb-e371fb84db64",
   "metadata": {},
   "outputs": [],
   "source": [
    "# Crear el pipeline completo\n",
    "pipeline = Pipeline(steps=[('preprocessor', preprocessor)])"
   ]
  },
  {
   "cell_type": "code",
   "execution_count": null,
   "id": "b377d9c9-6fb2-4956-848a-45b7a7cb6760",
   "metadata": {},
   "outputs": [],
   "source": []
  },
  {
   "cell_type": "markdown",
   "id": "794ef1a1-1bbc-4145-aa66-fc97a8f80ee5",
   "metadata": {},
   "source": [
    "# Entrenamiento del Modelo de Machine Learning"
   ]
  },
  {
   "cell_type": "code",
   "execution_count": 19,
   "id": "3167da1b-8602-4eb6-9323-9e148cb22de0",
   "metadata": {},
   "outputs": [],
   "source": [
    "from sklearn.linear_model import LinearRegression\n",
    "from sklearn.metrics import mean_squared_error"
   ]
  },
  {
   "cell_type": "code",
   "execution_count": 20,
   "id": "fa6658ff-a2c9-4368-a633-b28b96a411b2",
   "metadata": {},
   "outputs": [
    {
     "name": "stdout",
     "output_type": "stream",
     "text": [
      "Mean Squared Error: 0.7738397150355307\n"
     ]
    }
   ],
   "source": [
    "# Añadir el modelo al pipeline\n",
    "model = Pipeline(steps=[\n",
    "    ('preprocessor', preprocessor),\n",
    "    ('regressor', LinearRegression())\n",
    "])\n",
    "\n",
    "# Entrenar el modelo\n",
    "model.fit(X_train, y_train)\n",
    "\n",
    "# Evaluar el modelo\n",
    "y_pred = model.predict(X_test)\n",
    "mse = mean_squared_error(y_test, y_pred)\n",
    "print(f'Mean Squared Error: {mse}')"
   ]
  },
  {
   "cell_type": "code",
   "execution_count": null,
   "id": "89ad91e7-ccba-48e3-9e3e-34da1d3a13b9",
   "metadata": {},
   "outputs": [],
   "source": []
  },
  {
   "cell_type": "markdown",
   "id": "62a9649c-16d4-413e-bdbd-f04742a19af0",
   "metadata": {},
   "source": [
    "# Guardado del Modelo con Joblib"
   ]
  },
  {
   "cell_type": "code",
   "execution_count": 21,
   "id": "db87cc98-a050-4609-af70-05c65e660c92",
   "metadata": {},
   "outputs": [
    {
     "data": {
      "text/plain": [
       "['pipeline_total.gz']"
      ]
     },
     "execution_count": 21,
     "metadata": {},
     "output_type": "execute_result"
    }
   ],
   "source": [
    "import joblib\n",
    "\n",
    "# Guardar el modelo\n",
    "joblib.dump(model, 'mejor_modelo.gz')\n",
    "\n",
    "# Guardar el pipeline\n",
    "joblib.dump(pipeline, 'pipeline_total.gz')"
   ]
  }
 ],
 "metadata": {
  "kernelspec": {
   "display_name": "Python 3 (ipykernel)",
   "language": "python",
   "name": "python3"
  },
  "language_info": {
   "codemirror_mode": {
    "name": "ipython",
    "version": 3
   },
   "file_extension": ".py",
   "mimetype": "text/x-python",
   "name": "python",
   "nbconvert_exporter": "python",
   "pygments_lexer": "ipython3",
   "version": "3.11.11"
  }
 },
 "nbformat": 4,
 "nbformat_minor": 5
}
